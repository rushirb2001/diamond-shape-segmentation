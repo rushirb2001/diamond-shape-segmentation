{
 "cells": [
  {
   "cell_type": "markdown",
   "metadata": {},
   "source": [
    "# Diamond Dataset Exploration\n",
    "\n",
    "This notebook explores the diamond image dataset structure and visualizes sample images from different shape categories."
   ]
  },
  {
   "cell_type": "code",
   "execution_count": null,
   "metadata": {},
   "outputs": [],
   "source": [
    "# Import required libraries\n",
    "import sys\n",
    "sys.path.append('..')\n",
    "\n",
    "import cv2\n",
    "import numpy as np\n",
    "import matplotlib.pyplot as plt\n",
    "from matplotlib.gridspec import GridSpec\n",
    "import os\n",
    "\n",
    "from src.data.loader import DiamondDataLoader, DiamondShapeMapper\n",
    "from src.utils.visualization import create_comparison_grid\n",
    "\n",
    "%matplotlib inline"
   ]
  },
  {
   "cell_type": "markdown",
   "metadata": {},
   "source": [
    "## 1. Dataset Configuration"
   ]
  },
  {
   "cell_type": "code",
   "execution_count": null,
   "metadata": {},
   "outputs": [],
   "source": [
    "# Configure dataset path\n",
    "DATA_PATH = '../data/raw'\n",
    "VARIANT = 'Shape_1d_256i'  # Options: Shape_1d_256i, Shape_5d_256i, Shape_10d_256i\n",
    "\n",
    "# Initialize data loader\n",
    "loader = DiamondDataLoader(DATA_PATH, VARIANT)\n",
    "mapper = DiamondShapeMapper()\n",
    "\n",
    "print(f\"Dataset variant: {VARIANT}\")\n",
    "print(f\"Dataset path: {loader.dataset_path}\")"
   ]
  },
  {
   "cell_type": "markdown",
   "metadata": {},
   "source": [
    "## 2. Dataset Information"
   ]
  },
  {
   "cell_type": "code",
   "execution_count": null,
   "metadata": {},
   "outputs": [],
   "source": [
    "# Get dataset information\n",
    "dataset_info = loader.get_dataset_info()\n",
    "\n",
    "print(\"=\"*60)\n",
    "print(\"DATASET INFORMATION\")\n",
    "print(\"=\"*60)\n",
    "print(f\"Total images: {dataset_info['total_images']}\")\n",
    "print(f\"\\nShape categories: {len(dataset_info['shapes'])}\")\n",
    "print(\"\\nPer-shape breakdown:\")\n",
    "print(\"-\"*60)\n",
    "\n",
    "for code, info in dataset_info['shapes'].items():\n",
    "    print(f\"{code:<6} - {info['name']:<20} : {info['image_count']} images\")\n",
    "\n",
    "print(\"=\"*60)"
   ]
  },
  {
   "cell_type": "markdown",
   "metadata": {},
   "source": [
    "## 3. Validate Dataset"
   ]
  },
  {
   "cell_type": "code",
   "execution_count": null,
   "metadata": {},
   "outputs": [],
   "source": [
    "# Validate dataset structure\n",
    "is_valid, issues = loader.validate_dataset()\n",
    "\n",
    "if is_valid:\n",
    "    print(\"✓ Dataset validation passed!\")\n",
    "else:\n",
    "    print(\"✗ Dataset validation failed:\")\n",
    "    for issue in issues:\n",
    "        print(f\"  - {issue}\")"
   ]
  },
  {
   "cell_type": "markdown",
   "metadata": {},
   "source": [
    "## 4. Visualize Sample Images"
   ]
  },
  {
   "cell_type": "code",
   "execution_count": null,
   "metadata": {},
   "outputs": [],
   "source": [
    "def display_shape_samples(shape_id, num_samples=5):\n",
    "    \"\"\"\n",
    "    Display sample images from a shape category.\n",
    "    \"\"\"\n",
    "    shape_code = mapper.get_shape_code(shape_id)\n",
    "    shape_name = mapper.get_shape_name(shape_code)\n",
    "    \n",
    "    # Get image list\n",
    "    images = loader.list_images(shape_id)\n",
    "    \n",
    "    # Load sample images\n",
    "    samples = []\n",
    "    for i in range(min(num_samples, len(images))):\n",
    "        img_path = loader.get_image_path(shape_id, images[i])\n",
    "        img = cv2.imread(img_path)\n",
    "        img_rgb = cv2.cvtColor(img, cv2.COLOR_BGR2RGB)\n",
    "        samples.append(img_rgb)\n",
    "    \n",
    "    # Display\n",
    "    fig, axes = plt.subplots(1, num_samples, figsize=(15, 3))\n",
    "    fig.suptitle(f\"{shape_name} ({shape_code}) - Sample Images\", fontsize=14, fontweight='bold')\n",
    "    \n",
    "    for idx, (ax, img) in enumerate(zip(axes, samples)):\n",
    "        ax.imshow(img)\n",
    "        ax.axis('off')\n",
    "        ax.set_title(f\"Image {idx+1}\")\n",
    "    \n",
    "    plt.tight_layout()\n",
    "    plt.show()"
   ]
  },
  {
   "cell_type": "code",
   "execution_count": null,
   "metadata": {},
   "outputs": [],
   "source": [
    "# Display samples from each shape category\n",
    "for shape_id in range(1, 15):\n",
    "    display_shape_samples(shape_id, num_samples=5)"
   ]
  },
  {
   "cell_type": "markdown",
   "metadata": {},
   "source": [
    "## 5. All Shapes Grid View"
   ]
  },
  {
   "cell_type": "code",
   "execution_count": null,
   "metadata": {},
   "outputs": [],
   "source": [
    "def create_all_shapes_grid():\n",
    "    \"\"\"\n",
    "    Create a grid showing one sample from each shape category.\n",
    "    \"\"\"\n",
    "    fig = plt.figure(figsize=(16, 10))\n",
    "    fig.suptitle('Diamond Shape Categories - Sample Grid', fontsize=16, fontweight='bold')\n",
    "    \n",
    "    # Create 4x4 grid (14 shapes + 2 empty)\n",
    "    rows, cols = 4, 4\n",
    "    \n",
    "    for shape_id in range(1, 15):\n",
    "        shape_code = mapper.get_shape_code(shape_id)\n",
    "        shape_name = mapper.get_shape_name(shape_code)\n",
    "        \n",
    "        # Load first image\n",
    "        images = loader.list_images(shape_id)\n",
    "        if images:\n",
    "            img_path = loader.get_image_path(shape_id, images[0])\n",
    "            img = cv2.imread(img_path)\n",
    "            img_rgb = cv2.cvtColor(img, cv2.COLOR_BGR2RGB)\n",
    "            \n",
    "            # Add to grid\n",
    "            ax = plt.subplot(rows, cols, shape_id)\n",
    "            ax.imshow(img_rgb)\n",
    "            ax.axis('off')\n",
    "            ax.set_title(f\"{shape_code}\\n{shape_name}\", fontsize=10)\n",
    "    \n",
    "    plt.tight_layout()\n",
    "    plt.show()\n",
    "\n",
    "create_all_shapes_grid()"
   ]
  },
  {
   "cell_type": "markdown",
   "metadata": {},
   "source": [
    "## 6. Image Properties Analysis"
   ]
  },
  {
   "cell_type": "code",
   "execution_count": null,
   "metadata": {},
   "outputs": [],
   "source": [
    "def analyze_image_properties(shape_id, num_samples=10):\n",
    "    \"\"\"\n",
    "    Analyze properties of sample images from a shape category.\n",
    "    \"\"\"\n",
    "    images = loader.list_images(shape_id)\n",
    "    \n",
    "    dimensions = []\n",
    "    mean_brightness = []\n",
    "    \n",
    "    for i in range(min(num_samples, len(images))):\n",
    "        img_path = loader.get_image_path(shape_id, images[i])\n",
    "        img = cv2.imread(img_path)\n",
    "        \n",
    "        if img is not None:\n",
    "            dimensions.append(img.shape[:2])\n",
    "            gray = cv2.cvtColor(img, cv2.COLOR_BGR2GRAY)\n",
    "            mean_brightness.append(np.mean(gray))\n",
    "    \n",
    "    shape_code = mapper.get_shape_code(shape_id)\n",
    "    shape_name = mapper.get_shape_name(shape_code)\n",
    "    \n",
    "    print(f\"\\nAnalysis for {shape_name} ({shape_code}):\")\n",
    "    print(\"-\" * 50)\n",
    "    print(f\"Sample size: {len(dimensions)} images\")\n",
    "    print(f\"Image dimensions: {dimensions[0] if dimensions else 'N/A'}\")\n",
    "    print(f\"Average brightness: {np.mean(mean_brightness):.2f}\")\n",
    "    print(f\"Brightness range: [{np.min(mean_brightness):.2f}, {np.max(mean_brightness):.2f}]\")\n",
    "\n",
    "# Analyze first 3 shape categories\n",
    "for shape_id in range(1, 4):\n",
    "    analyze_image_properties(shape_id)"
   ]
  },
  {
   "cell_type": "markdown",
   "metadata": {},
   "source": [
    "## 7. Color Distribution Analysis"
   ]
  },
  {
   "cell_type": "code",
   "execution_count": null,
   "metadata": {},
   "outputs": [],
   "source": [
    "def plot_color_histogram(shape_id):\n",
    "    \"\"\"\n",
    "    Plot color histogram for a sample image.\n",
    "    \"\"\"\n",
    "    images = loader.list_images(shape_id)\n",
    "    img_path = loader.get_image_path(shape_id, images[0])\n",
    "    img = cv2.imread(img_path)\n",
    "    img_rgb = cv2.cvtColor(img, cv2.COLOR_BGR2RGB)\n",
    "    \n",
    "    shape_code = mapper.get_shape_code(shape_id)\n",
    "    shape_name = mapper.get_shape_name(shape_code)\n",
    "    \n",
    "    # Create figure\n",
    "    fig, axes = plt.subplots(1, 2, figsize=(12, 4))\n",
    "    fig.suptitle(f\"Color Analysis - {shape_name} ({shape_code})\")\n",
    "    \n",
    "    # Display image\n",
    "    axes[0].imshow(img_rgb)\n",
    "    axes[0].axis('off')\n",
    "    axes[0].set_title('Sample Image')\n",
    "    \n",
    "    # Plot histogram\n",
    "    colors = ('r', 'g', 'b')\n",
    "    for i, color in enumerate(colors):\n",
    "        hist = cv2.calcHist([img_rgb], [i], None, [256], [0, 256])\n",
    "        axes[1].plot(hist, color=color, label=color.upper())\n",
    "    \n",
    "    axes[1].set_xlim([0, 256])\n",
    "    axes[1].set_title('Color Histogram')\n",
    "    axes[1].set_xlabel('Pixel Value')\n",
    "    axes[1].set_ylabel('Frequency')\n",
    "    axes[1].legend()\n",
    "    axes[1].grid(True, alpha=0.3)\n",
    "    \n",
    "    plt.tight_layout()\n",
    "    plt.show()\n",
    "\n",
    "# Plot for first 3 shapes\n",
    "for shape_id in range(1, 4):\n",
    "    plot_color_histogram(shape_id)"
   ]
  },
  {
   "cell_type": "markdown",
   "metadata": {},
   "source": [
    "## 8. Summary Statistics"
   ]
  },
  {
   "cell_type": "code",
   "execution_count": null,
   "metadata": {},
   "outputs": [],
   "source": [
    "print(\"=\"*60)\n",
    "print(\"DATASET SUMMARY\")\n",
    "print(\"=\"*60)\n",
    "print(f\"Dataset Variant: {VARIANT}\")\n",
    "print(f\"Total Shape Categories: {mapper.get_shape_count()}\")\n",
    "print(f\"Total Images: {dataset_info['total_images']}\")\n",
    "print(f\"Images per Shape: ~{dataset_info['total_images'] // mapper.get_shape_count()}\")\n",
    "print(f\"Image Resolution: 256x256 pixels\")\n",
    "print(f\"Image Format: PNG\")\n",
    "print(\"=\"*60)"
   ]
  },
  {
   "cell_type": "markdown",
   "metadata": {},
   "source": [
    "## Conclusion\n",
    "\n",
    "This notebook explored the diamond image dataset structure and visualized samples from different shape categories. Key findings:\n",
    "\n",
    "- The dataset contains 14 distinct diamond shape categories\n",
    "- Each category has 256 images at 256x256 resolution\n",
    "- Images show varying lighting conditions and backgrounds\n",
    "- The dataset is well-organized and ready for segmentation processing"
   ]
  }
 ],
 "metadata": {
  "kernelspec": {
   "display_name": "Python 3",
   "language": "python",
   "name": "python3"
  },
  "language_info": {
   "codemirror_mode": {
    "name": "ipython",
    "version": 3
   },
   "file_extension": ".py",
   "mimetype": "text/x-python",
   "name": "python",
   "nbconvert_exporter": "python",
   "pygments_lexer": "ipython3",
   "version": "3.9.0"
  }
 },
 "nbformat": 4,
 "nbformat_minor": 4
}