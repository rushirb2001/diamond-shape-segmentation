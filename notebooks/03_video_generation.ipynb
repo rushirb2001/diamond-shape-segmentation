{
 "cells": [
  {
   "cell_type": "markdown",
   "metadata": {},
   "source": [
    "# Video Generation and Comparisons\n",
    "\n",
    "This notebook demonstrates how to create various types of videos and animations to showcase the diamond segmentation pipeline."
   ]
  },
  {
   "cell_type": "code",
   "execution_count": null,
   "metadata": {},
   "outputs": [],
   "source": [
    "# Import required libraries\n",
    "import sys\n",
    "sys.path.append('..')\n",
    "\n",
    "import cv2\n",
    "import numpy as np\n",
    "import matplotlib.pyplot as plt\n",
    "from pathlib import Path\n",
    "import glob\n",
    "\n",
    "from src.data.loader import DiamondDataLoader, DiamondShapeMapper\n",
    "from src.pipe.video_comparison import (\n",
    "    VideoComparator,\n",
    "    create_triple_split_video,\n",
    "    create_comparison_grid,\n",
    "    create_annotated_comparison\n",
    ")\n",
    "from src.pipe.animation import (\n",
    "    MaskEvolutionAnimator,\n",
    "    AlgorithmCoverageAnimator,\n",
    "    create_pipeline_animation\n",
    ")\n",
    "from src.utils.file_utils import ensure_dir\n",
    "\n",
    "%matplotlib inline"
   ]
  },
  {
   "cell_type": "markdown",
   "metadata": {},
   "source": [
    "## 1. Setup and Configuration"
   ]
  },
  {
   "cell_type": "code",
   "execution_count": null,
   "metadata": {},
   "outputs": [],
   "source": [
    "# Configure paths\n",
    "DATA_PATH = '../data/raw'\n",
    "OUTPUT_DIR = '../videos'\n",
    "VARIANT_1D = 'Shape_1d_256i'\n",
    "VARIANT_5D = 'Shape_5d_256i'\n",
    "\n",
    "# Create output directory\n",
    "ensure_dir(OUTPUT_DIR)\n",
    "\n",
    "# Initialize loaders\n",
    "loader_1d = DiamondDataLoader(DATA_PATH, VARIANT_1D)\n",
    "loader_5d = DiamondDataLoader(DATA_PATH, VARIANT_5D)\n",
    "mapper = DiamondShapeMapper()\n",
    "\n",
    "# Video settings\n",
    "FPS = 15\n",
    "ITERATIONS = 5\n",
    "\n",
    "print(f\"Output directory: {OUTPUT_DIR}\")\n",
    "print(f\"Video FPS: {FPS}\")\n",
    "print(f\"GrabCut iterations: {ITERATIONS}\")"
   ]
  },
  {
   "cell_type": "markdown",
   "metadata": {},
   "source": [
    "## 2. Triple-Split Video (Before | CLAHE | After)\n",
    "\n",
    "Demonstrates the complete segmentation pipeline for a single diamond variation."
   ]
  },
  {
   "cell_type": "code",
   "execution_count": null,
   "metadata": {},
   "outputs": [],
   "source": [
    "# Select shape for demo\n",
    "DEMO_SHAPE = 'AS'  # Asscher\n",
    "shape_name = mapper.get_shape_name(DEMO_SHAPE)\n",
    "shape_id = mapper.get_shape_id(DEMO_SHAPE)\n",
    "\n",
    "print(f\"Creating triple-split video for: {shape_name} ({DEMO_SHAPE})\")\n",
    "\n",
    "# Get image list from 1d dataset\n",
    "image_list = loader_1d.list_images(shape_id)\n",
    "print(f\"Found {len(image_list)} images\")\n",
    "\n",
    "# Get full paths\n",
    "image_paths = [loader_1d.get_image_path(shape_id, img) for img in image_list]\n",
    "\n",
    "# Create video\n",
    "output_path = Path(OUTPUT_DIR) / f'triple_split_{DEMO_SHAPE}_{shape_name}.avi'\n",
    "comparator = VideoComparator(output_path, fps=FPS)\n",
    "\n",
    "video_path = comparator.create_triple_split(\n",
    "    image_paths,\n",
    "    iterations=ITERATIONS,\n",
    "    add_labels=True\n",
    ")\n",
    "\n",
    "print(f\"\\n✓ Video created: {video_path}\")"
   ]
  },
  {
   "cell_type": "markdown",
   "metadata": {},
   "source": [
    "## 3. Five-Split Video (5 Variations)\n",
    "\n",
    "Shows segmentation results for 5 different variations of the same diamond shape side-by-side."
   ]
  },
  {
   "cell_type": "code",
   "execution_count": null,
   "metadata": {},
   "outputs": [],
   "source": [
    "from src.utils.segmentation import preprocess_for_segmentation, remove_background\n",
    "from tqdm import tqdm\n",
    "\n",
    "print(f\"Creating five-split video for: {shape_name} ({DEMO_SHAPE})\")\n",
    "\n",
    "# Get all images from 5d dataset\n",
    "all_images_5d = loader_5d.list_images(shape_id)\n",
    "print(f\"Found {len(all_images_5d)} total images in 5d dataset\")\n",
    "\n",
    "# Split into 5 variations (256 images each)\n",
    "images_per_variation = 256\n",
    "variations = []\n",
    "\n",
    "for var_idx in range(5):\n",
    "    start_idx = var_idx * images_per_variation\n",
    "    end_idx = start_idx + images_per_variation\n",
    "    var_images = all_images_5d[start_idx:end_idx]\n",
    "    variations.append(var_images)\n",
    "\n",
    "print(f\"Processing {len(variations)} variations with {images_per_variation} images each\")\n",
    "\n",
    "# Process all variations\n",
    "all_frames = [[] for _ in range(5)]\n",
    "\n",
    "for var_idx in range(5):\n",
    "    print(f\"\\nProcessing variation {var_idx + 1}/5...\")\n",
    "    \n",
    "    for img_name in tqdm(variations[var_idx][:50], desc=f\"Variation {var_idx+1}\"):  # Limit to 50 frames for demo\n",
    "        img_path = loader_5d.get_image_path(shape_id, img_name)\n",
    "        original = cv2.imread(img_path)\n",
    "        \n",
    "        if original is None:\n",
    "            continue\n",
    "        \n",
    "        # Process\n",
    "        _, enhanced = preprocess_for_segmentation(original)\n",
    "        segmented, _ = remove_background(original, enhanced, ITERATIONS)\n",
    "        \n",
    "        all_frames[var_idx].append(segmented)\n",
    "\n",
    "# Create labels\n",
    "labels = [f\"{shape_name} Var {i+1}\" for i in range(5)]\n",
    "\n",
    "# Generate grid video\n",
    "output_path = Path(OUTPUT_DIR) / f'five_split_{DEMO_SHAPE}_{shape_name}.avi'\n",
    "\n",
    "video_path = create_comparison_grid(\n",
    "    all_frames,\n",
    "    labels,\n",
    "    output_path,\n",
    "    fps=FPS,\n",
    "    grid_layout=(1, 5)\n",
    ")\n",
    "\n",
    "print(f\"\\n✓ Five-split video created: {video_path}\")"
   ]
  },
  {
   "cell_type": "markdown",
   "metadata": {},
   "source": [
    "## 4. Mask Evolution Animation\n",
    "\n",
    "Visualize how the GrabCut mask evolves over iterations for a single image."
   ]
  },
  {
   "cell_type": "code",
   "execution_count": null,
   "metadata": {},
   "outputs": [],
   "source": [
    "# Select a single image for animation\n",
    "sample_image = image_paths[0]\n",
    "\n",
    "print(f\"Creating mask evolution animation...\")\n",
    "print(f\"Sample image: {sample_image}\")\n",
    "\n",
    "# Create animation\n",
    "output_path = Path(OUTPUT_DIR) / f'mask_evolution_{DEMO_SHAPE}.avi'\n",
    "animator = MaskEvolutionAnimator(output_path, fps=10)\n",
    "\n",
    "video_path = animator.animate_single_image_evolution(\n",
    "    sample_image,\n",
    "    max_iterations=10,\n",
    "    frames_per_iteration=5\n",
    ")\n",
    "\n",
    "print(f\"\\n✓ Mask evolution animation created: {video_path}\")"
   ]
  },
  {
   "cell_type": "markdown",
   "metadata": {},
   "source": [
    "## 5. Pipeline Steps Animation\n",
    "\n",
    "Step-by-step visualization of the entire segmentation pipeline."
   ]
  },
  {
   "cell_type": "code",
   "execution_count": null,
   "metadata": {},
   "outputs": [],
   "source": [
    "print(f\"Creating pipeline steps animation...\")\n",
    "\n",
    "output_path = Path(OUTPUT_DIR) / f'pipeline_steps_{DEMO_SHAPE}.avi'\n",
    "\n",
    "video_path = create_pipeline_animation(\n",
    "    sample_image,\n",
    "    output_path,\n",
    "    iterations=ITERATIONS,\n",
    "    fps=10\n",
    ")\n",
    "\n",
    "print(f\"\\n✓ Pipeline animation created: {video_path}\")"
   ]
  },
  {
   "cell_type": "markdown",
   "metadata": {},
   "source": [
    "## 6. Annotated Comparison with Progress Bar\n",
    "\n",
    "Create a professional video with progress indicators and frame counters."
   ]
  },
  {
   "cell_type": "code",
   "execution_count": null,
   "metadata": {},
   "outputs": [],
   "source": [
    "print(f\"Creating annotated comparison video...\")\n",
    "\n",
    "# Use subset of images for demo\n",
    "demo_images = image_paths[:100]  # First 100 images\n",
    "\n",
    "output_path = Path(OUTPUT_DIR) / f'annotated_{DEMO_SHAPE}_{shape_name}.avi'\n",
    "\n",
    "video_path = create_annotated_comparison(\n",
    "    demo_images,\n",
    "    output_path,\n",
    "    iterations=ITERATIONS,\n",
    "    fps=FPS,\n",
    "    show_progress=True,\n",
    "    show_counter=True\n",
    ")\n",
    "\n",
    "print(f\"\\n✓ Annotated video created: {video_path}\")"
   ]
  },
  {
   "cell_type": "markdown",
   "metadata": {},
   "source": [
    "## 7. Multi-Shape Comparison\n",
    "\n",
    "Create a comparison video showing segmentation across different diamond shapes."
   ]
  },
  {
   "cell_type": "code",
   "execution_count": null,
   "metadata": {},
   "outputs": [],
   "source": [
    "# Select multiple shapes for comparison\n",
    "comparison_shapes = ['AS', 'BR', 'EM']\n",
    "\n",
    "print(f\"Creating multi-shape comparison video...\")\n",
    "print(f\"Shapes: {', '.join(comparison_shapes)}\")\n",
    "\n",
    "# Process first 50 images from each shape\n",
    "all_shape_frames = []\n",
    "shape_labels = []\n",
    "\n",
    "for shape_code in comparison_shapes:\n",
    "    shape_id = mapper.get_shape_id(shape_code)\n",
    "    shape_name = mapper.get_shape_name(shape_code)\n",
    "    \n",
    "    print(f\"\\nProcessing {shape_name} ({shape_code})...\")\n",
    "    \n",
    "    images = loader_1d.list_images(shape_id)[:50]  # First 50 images\n",
    "    frames = []\n",
    "    \n",
    "    for img_name in tqdm(images, desc=shape_code):\n",
    "        img_path = loader_1d.get_image_path(shape_id, img_name)\n",
    "        original = cv2.imread(img_path)\n",
    "        \n",
    "        if original is None:\n",
    "            continue\n",
    "        \n",
    "        _, enhanced = preprocess_for_segmentation(original)\n",
    "        segmented, _ = remove_background(original, enhanced, ITERATIONS)\n",
    "        \n",
    "        frames.append(segmented)\n",
    "    \n",
    "    all_shape_frames.append(frames)\n",
    "    shape_labels.append(f\"{shape_name}\")\n",
    "\n",
    "# Create comparison video\n",
    "output_path = Path(OUTPUT_DIR) / 'multi_shape_comparison.avi'\n",
    "\n",
    "video_path = create_comparison_grid(\n",
    "    all_shape_frames,\n",
    "    shape_labels,\n",
    "    output_path,\n",
    "    fps=FPS,\n",
    "    grid_layout=(1, 3)\n",
    ")\n",
    "\n",
    "print(f\"\\n✓ Multi-shape comparison video created: {video_path}\")"
   ]
  },
  {
   "cell_type": "markdown",
   "metadata": {},
   "source": [
    "## 8. Video Information Summary"
   ]
  },
  {
   "cell_type": "code",
   "execution_count": null,
   "metadata": {},
   "outputs": [],
   "source": [
    "from src.pipe.video_creator import get_video_info\n",
    "import os\n",
    "\n",
    "print(\"=\"*60)\n",
    "print(\"GENERATED VIDEOS SUMMARY\")\n",
    "print(\"=\"*60)\n",
    "\n",
    "video_files = glob.glob(str(Path(OUTPUT_DIR) / '*.avi'))\n",
    "\n",
    "for video_file in sorted(video_files):\n",
    "    try:\n",
    "        info = get_video_info(video_file)\n",
    "        file_size = os.path.getsize(video_file) / (1024 * 1024)  # MB\n",
    "        \n",
    "        print(f\"\\n{os.path.basename(video_file)}\")\n",
    "        print(f\"  Resolution: {info['width']}x{info['height']}\")\n",
    "        print(f\"  FPS: {info['fps']:.2f}\")\n",
    "        print(f\"  Frames: {info['frame_count']}\")\n",
    "        print(f\"  Duration: {info['duration_seconds']:.2f}s\")\n",
    "        print(f\"  File size: {file_size:.2f} MB\")\n",
    "    except Exception as e:\n",
    "        print(f\"\\n{os.path.basename(video_file)}: Error reading info - {e}\")\n",
    "\n",
    "print(\"\\n\" + \"=\"*60)\n",
    "print(f\"Total videos: {len(video_files)}\")\n",
    "print(\"=\"*60)"
   ]
  },
  {
   "cell_type": "markdown",
   "metadata": {},
   "source": [
    "## Summary\n",
    "\n",
    "This notebook demonstrated:\n",
    "\n",
    "1. **Triple-Split Videos**: Showing Before | CLAHE | After pipeline stages\n",
    "2. **Five-Split Videos**: Comparing 5 variations of the same diamond shape\n",
    "3. **Mask Evolution**: Visualizing how GrabCut refines the segmentation\n",
    "4. **Pipeline Animation**: Step-by-step breakdown of the algorithm\n",
    "5. **Annotated Videos**: Professional outputs with progress bars and counters\n",
    "6. **Multi-Shape Comparison**: Side-by-side comparison across shapes\n",
    "\n",
    "All videos are saved in the `videos/` directory and can be used for presentations, documentation, or further analysis."
   ]
  }
 ],
 "metadata": {
  "kernelspec": {
   "display_name": "Python 3",
   "language": "python",
   "name": "python3"
  },
  "language_info": {
   "codemirror_mode": {
    "name": "ipython",
    "version": 3
   },
   "file_extension": ".py",
   "mimetype": "text/x-python",
   "name": "python",
   "nbconvert_exporter": "python",
   "pygments_lexer": "ipython3",
   "version": "3.9.0"
  }
 },
 "nbformat": 4,
 "nbformat_minor": 4
}